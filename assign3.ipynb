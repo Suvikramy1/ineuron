{
 "cells": [
  {
   "cell_type": "markdown",
   "metadata": {},
   "source": [
    "Write a function to compute 5/0 and use try/except to catch the exceptions."
   ]
  },
  {
   "cell_type": "code",
   "execution_count": 16,
   "metadata": {},
   "outputs": [],
   "source": [
    "import sys\n",
    "def func_exp():\n",
    "    try:\n",
    "        x=5/0\n",
    "    except ZeroDivisionError as err:\n",
    "        #print the err message\n",
    "        print('Zero Divide',err)\n",
    "    "
   ]
  },
  {
   "cell_type": "code",
   "execution_count": 17,
   "metadata": {},
   "outputs": [
    {
     "name": "stdout",
     "output_type": "stream",
     "text": [
      "Zero Divide division by zero\n"
     ]
    }
   ],
   "source": [
    "func_exp()"
   ]
  },
  {
   "cell_type": "markdown",
   "metadata": {},
   "source": [
    "Implement a Python program to generate all sentences where subject is in [\"Americans\",\n",
    "\"Indians\"] and verb is in [\"Play\", \"watch\"] and the object is in [\"Baseball\",\"cricket\"]."
   ]
  },
  {
   "cell_type": "code",
   "execution_count": 18,
   "metadata": {
    "scrolled": true
   },
   "outputs": [
    {
     "name": "stdout",
     "output_type": "stream",
     "text": [
      "Americans  play Baseball.\n",
      "Americans  play Cricket.\n",
      "Americans  watch Baseball.\n",
      "Americans  watch Cricket.\n",
      "Indians play Baseball.\n",
      "Indians play Cricket.\n",
      "Indians watch Baseball.\n",
      "Indians watch Cricket.\n"
     ]
    }
   ],
   "source": [
    "subjects=[\"Americans \",\"Indians\"]\n",
    "verbs=[\"play\",\"watch\"]\n",
    "objects=[\"Baseball\",\"Cricket\"]\n",
    "for i in subjects:\n",
    "    for j in verbs:\n",
    "        for l in objects:\n",
    "            #concatenate the string\n",
    "            print(i+' '+j+' '+l+'.')"
   ]
  },
  {
   "cell_type": "markdown",
   "metadata": {},
   "source": [
    "Write a function so that the columns of the output matrix are powers of the input vector.\n",
    "The order of the powers is determined by the increasing boolean argument. Specifically, when\n",
    "increasing is False, the i-th output column is the input vector raised element-wise to the power\n",
    "of N - i - 1\n"
   ]
  },
  {
   "cell_type": "code",
   "execution_count": 4,
   "metadata": {},
   "outputs": [],
   "source": [
    "inp=[[1], [2], [3]]\n",
    "def vander_matrix(inp):\n",
    "    mat=list()\n",
    "    i=0\n",
    "    while True:\n",
    "        #appending the matrix with the modified list\n",
    "        mat.append(list(map(lambda x: x[0]**i,inp)))\n",
    "        #transposing the matrix\n",
    "        out_mat = [[mat[j][i] for j in range(len(mat))] for i in range(len(mat[0]))] \n",
    "        i=i+1\n",
    "        bool_inp = input(\"Do you want to increase the power Yes/No\")\n",
    "        if(bool_inp=='No'):\n",
    "            break\n",
    "    print(out_mat)\n"
   ]
  },
  {
   "cell_type": "code",
   "execution_count": 3,
   "metadata": {
    "scrolled": true
   },
   "outputs": [
    {
     "name": "stdout",
     "output_type": "stream",
     "text": [
      "Do you want to increase the power Yes/NoYes\n",
      "Do you want to increase the power Yes/NoYes\n",
      "Do you want to increase the power Yes/NoYes\n",
      "Do you want to increase the power Yes/NoNo\n",
      "[[1, 1, 1, 1], [1, 2, 4, 8], [1, 3, 9, 27]]\n"
     ]
    }
   ],
   "source": [
    "vander_matrix(inp)"
   ]
  },
  {
   "cell_type": "code",
   "execution_count": null,
   "metadata": {},
   "outputs": [],
   "source": []
  }
 ],
 "metadata": {
  "kernelspec": {
   "display_name": "Python 3",
   "language": "python",
   "name": "python3"
  },
  "language_info": {
   "codemirror_mode": {
    "name": "ipython",
    "version": 3
   },
   "file_extension": ".py",
   "mimetype": "text/x-python",
   "name": "python",
   "nbconvert_exporter": "python",
   "pygments_lexer": "ipython3",
   "version": "3.7.0"
  }
 },
 "nbformat": 4,
 "nbformat_minor": 2
}
