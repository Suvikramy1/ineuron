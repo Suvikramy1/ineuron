{
 "cells": [
  {
   "cell_type": "code",
   "execution_count": 1,
   "metadata": {},
   "outputs": [
    {
     "name": "stdout",
     "output_type": "stream",
     "text": [
      "Hello World\n"
     ]
    }
   ],
   "source": [
    "print('Hello World')"
   ]
  },
  {
   "cell_type": "code",
   "execution_count": 2,
   "metadata": {},
   "outputs": [
    {
     "name": "stdout",
     "output_type": "stream",
     "text": [
      "3199,3192,3178,3171,3164,3157,3143,3136,3129,3122,3108,3101,3094,3087,3073,3066,3059,3052,3038,3031,3024,3017,3003,2996,2989,2982,2968,2961,2954,2947,2933,2926,2919,2912,2898,2891,2884,2877,2863,2856,2849,2842,2828,2821,2814,2807,2793,2786,2779,2772,2758,2751,2744,2737,2723,2716,2709,2702,2688,2681,2674,2667,2653,2646,2639,2632,2618,2611,2604,2597,2583,2576,2569,2562,2548,2541,2534,2527,2513,2506,2499,2492,2478,2471,2464,2457,2443,2436,2429,2422,2408,2401,2394,2387,2373,2366,2359,2352,2338,2331,2324,2317,2303,2296,2289,2282,2268,2261,2254,2247,2233,2226,2219,2212,2198,2191,2184,2177,2163,2156,2149,2142,2128,2121,2114,2107,2093,2086,2079,2072,2058,2051,2044,2037,2023,2016,2009,2002,\n"
     ]
    }
   ],
   "source": [
    "st=\"\"\n",
    "for i in range(2000,3201):\n",
    "    if i%7==0 and i%5!=0:\n",
    "        st= str(i)+\",\"+ st\n",
    "print(st)"
   ]
  },
  {
   "cell_type": "code",
   "execution_count": 3,
   "metadata": {},
   "outputs": [
    {
     "name": "stdout",
     "output_type": "stream",
     "text": [
      "First NameSuvi\n",
      "Last NameVirat\n",
      "Virat Suvi\n"
     ]
    }
   ],
   "source": [
    "\n",
    "print('{1} {0}'.format(input(\"First Name\"),input(\"Last Name\")))"
   ]
  },
  {
   "cell_type": "code",
   "execution_count": 4,
   "metadata": {},
   "outputs": [
    {
     "name": "stdout",
     "output_type": "stream",
     "text": [
      "Volume: 904.7786842338603\n"
     ]
    }
   ],
   "source": [
    "import math as m\n",
    "d=12\n",
    "vol=4/3*m.pi*(d/2)**3\n",
    "print('Volume:',vol)"
   ]
  },
  {
   "cell_type": "code",
   "execution_count": 8,
   "metadata": {},
   "outputs": [
    {
     "name": "stdout",
     "output_type": "stream",
     "text": [
      "Enter comma separated numbers2366,2359,2352,2338,2331,2324,2317\n",
      "['2366', '2359', '2352', '2338', '2331', '2324', '2317']\n"
     ]
    }
   ],
   "source": [
    "num_str=input('Enter comma separated numbers')\n",
    "arr=num_str.split(',')\n",
    "type(arr)\n",
    "print(arr)"
   ]
  },
  {
   "cell_type": "code",
   "execution_count": 6,
   "metadata": {},
   "outputs": [
    {
     "name": "stdout",
     "output_type": "stream",
     "text": [
      "*\n",
      "**\n",
      "***\n",
      "****\n",
      "*****\n",
      "****\n",
      "***\n",
      "**\n",
      "*\n"
     ]
    }
   ],
   "source": [
    "for i in range(1,6):\n",
    "    print('*'*i)\n",
    "    if i==5:\n",
    "        for j in range(1,i):\n",
    "            print('*'*(i-j))\n",
    "    "
   ]
  },
  {
   "cell_type": "code",
   "execution_count": 9,
   "metadata": {},
   "outputs": [
    {
     "name": "stdout",
     "output_type": "stream",
     "text": [
      "Enter the string to be reversedIndia is the best\n",
      "Reversed String: tseb eht si aidnI\n"
     ]
    }
   ],
   "source": [
    "inp_str=input('Enter the string to be reversed')\n",
    "print('Reversed String:',inp_str[::-1])\n"
   ]
  },
  {
   "cell_type": "code",
   "execution_count": 10,
   "metadata": {},
   "outputs": [
    {
     "name": "stdout",
     "output_type": "stream",
     "text": [
      "WE, THE PEOPLE OF INDIA,\n",
      "\t  having solemnly resolved to constitute India into a SOVEREIGN,!\n",
      "\t\t SOCIALIST, SECULAR, DEMOCRATIC REPUBLIC \n",
      "\t\t  and to secure to all its citizens\n"
     ]
    }
   ],
   "source": [
    "input_str='WE, THE PEOPLE OF INDIA, having solemnly resolved to constitute India into a \\\n",
    "SOVEREIGN, SOCIALIST, SECULAR, DEMOCRATIC REPUBLIC and to secure to all \\\n",
    "its citizens'\n",
    "inp_arr=input_str.partition(',')\n",
    "print(input_str.rsplit(', ',4)[0]+',')\n",
    "print('\\t',input_str.split(',',3)[2]+',!')\n",
    "print('\\t\\t',input_str.split(', ',3)[3][:input_str.split(', ',3)[3].find('and')])\n",
    "print('\\t\\t',input_str[input_str.find(' and'):])\n"
   ]
  },
  {
   "cell_type": "code",
   "execution_count": null,
   "metadata": {},
   "outputs": [],
   "source": []
  },
  {
   "cell_type": "code",
   "execution_count": null,
   "metadata": {},
   "outputs": [],
   "source": []
  }
 ],
 "metadata": {
  "kernelspec": {
   "display_name": "Python 3",
   "language": "python",
   "name": "python3"
  },
  "language_info": {
   "codemirror_mode": {
    "name": "ipython",
    "version": 3
   },
   "file_extension": ".py",
   "mimetype": "text/x-python",
   "name": "python",
   "nbconvert_exporter": "python",
   "pygments_lexer": "ipython3",
   "version": "3.7.0"
  }
 },
 "nbformat": 4,
 "nbformat_minor": 2
}
